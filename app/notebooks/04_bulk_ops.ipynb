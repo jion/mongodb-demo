{
 "cells": [
  {
   "cell_type": "markdown",
   "id": "18256077-40ee-4b15-b78e-ea4937a1bd37",
   "metadata": {},
   "source": [
    "# Bulk Ops"
   ]
  },
  {
   "cell_type": "code",
   "execution_count": null,
   "id": "39d6d758-0c36-4dae-baa8-e50043d72da5",
   "metadata": {},
   "outputs": [],
   "source": [
    "from pymongo import MongoClient\n",
    "\n",
    "client = MongoClient('mongodb://mongodb:27017/')\n",
    "db = client.bulk_ops\n",
    "\n",
    "# Ensure collections are clean\n",
    "db.customers.drop()\n",
    "db.subscriptions.drop()\n",
    "\n",
    "# Create collections\n",
    "db.create_collection('customers')\n",
    "db.create_collection('subscriptions')"
   ]
  },
  {
   "cell_type": "code",
   "execution_count": null,
   "id": "a2476669-9ec8-4755-9e97-ee74895a2d29",
   "metadata": {},
   "outputs": [],
   "source": [
    "import json\n",
    "\n",
    "def load_jsonl(file_path):\n",
    "    with open(file_path, 'r') as file:\n",
    "        for line in file:\n",
    "            yield json.loads(line)"
   ]
  },
  {
   "cell_type": "markdown",
   "id": "2bcc715a-13af-47b8-98d8-19a020d1f46c",
   "metadata": {},
   "source": [
    "## Single Ops"
   ]
  },
  {
   "cell_type": "code",
   "execution_count": null,
   "id": "d4e5711e-cca3-4152-b3c5-9e4b62d59eeb",
   "metadata": {},
   "outputs": [],
   "source": [
    "from bson import ObjectId, DBRef\n",
    "import time\n",
    "\n",
    "def insert_single_ops(file_path):\n",
    "    start_time = time.time()\n",
    "\n",
    "    for record in load_jsonl(file_path):\n",
    "        data = record[\"customer\"]\n",
    "        merchant = data[\"merchant\"]\n",
    "        external_id = data[\"merchant_user_id\"]\n",
    "        q_filter = {\"merchant\": merchant, \"external_id\": external_id}\n",
    "        q_update = {\"data\": data}\n",
    "        \n",
    "        existing_doc = db.customers.find_one(q_filter)\n",
    "        if not existing_doc:\n",
    "            customer_obj_id = ObjectId()\n",
    "            q_update['_id'] = customer_obj_id  # Pre-generate ID for relationships\n",
    "            \n",
    "        customer = db.customers.find_one_and_update(\n",
    "            q_filter,\n",
    "            {\"$set\": q_update}, upsert=True, new=True)\n",
    "\n",
    "        # Subscriptions\n",
    "        for subscription in record[\"subscriptions\"]:\n",
    "            subscription_obj_id = ObjectId()\n",
    "            subscription_doc = {\n",
    "                \"_id\": subscription_obj_id,\n",
    "                \"customer\": DBRef(\"customers\", customer['_id']),\n",
    "                \"data\": subscription\n",
    "            }\n",
    "            db.subscriptions.insert_one(subscription_doc)  # Inserts to simplify, this should be upserts\n",
    "\n",
    "    end_time = time.time()\n",
    "    print(\"Single Operations Write Time:\", end_time - start_time)"
   ]
  },
  {
   "cell_type": "code",
   "execution_count": null,
   "id": "dfcaa6e1-5ddb-4f0c-94a8-8df1c954caa7",
   "metadata": {},
   "outputs": [],
   "source": [
    "# File paths for the sample data\n",
    "# import subprocess; results = subprocess.run(['ls', '-lshalt', 'work'], capture_output=True, text=True)\n",
    "# print(results.stdout)\n",
    "file_path = '5k.jsonl'\n",
    "\n",
    "# Run single operations\n",
    "print(\"Running single operations...\")\n",
    "insert_single_ops(file_path)"
   ]
  },
  {
   "cell_type": "code",
   "execution_count": null,
   "id": "92ab5945-f06e-4e74-b510-c5bcc17b876a",
   "metadata": {},
   "outputs": [],
   "source": [
    "# Clear collections for fair comparison\n",
    "db.customers.drop()\n",
    "db.subscriptions.drop()\n",
    "db.create_collection('customers')\n",
    "db.create_collection('subscriptions')"
   ]
  },
  {
   "cell_type": "markdown",
   "id": "8c82583f-d834-44f8-aa74-4430a9a5cf60",
   "metadata": {},
   "source": [
    "## Bulk Ops"
   ]
  },
  {
   "cell_type": "code",
   "execution_count": null,
   "id": "51e58833-1a56-4a49-8248-d71f3c3be068",
   "metadata": {},
   "outputs": [],
   "source": [
    "from pymongo import InsertOne, UpdateOne\n",
    "\n",
    "def insert_bulk_ops(file_path):\n",
    "    customer_ops = []\n",
    "    subscription_ops = []\n",
    "\n",
    "    start_time = time.time()\n",
    "\n",
    "    # First pass, I read all customers (it could be in bulks of data)\n",
    "    existing_customers = {\n",
    "        \"fake_external_id\": {\"data\": {}},\n",
    "    }\n",
    "\n",
    "    for record in load_jsonl(file_path):\n",
    "        data = record[\"customer\"]\n",
    "        merchant = data[\"merchant\"]\n",
    "        external_id = data[\"merchant_user_id\"]\n",
    "        q_filter = {\"merchant\": merchant, \"external_id\": external_id}\n",
    "        q_update = {\"data\": data}\n",
    "\n",
    "        customer_obj_id = existing_customers.get(external_id) or ObjectId()\n",
    "        Customer._getcolllection.aggregation(UpdateOne(\n",
    "            q_filter,\n",
    "            {\"$set\": q_update, \"$setOnInsert\": {\"_id\": customer_obj_id}},\n",
    "            upsert=True\n",
    "        ))\n",
    "\n",
    "        for subscription in record[\"subscriptions\"]:\n",
    "            subscription_obj_id = ObjectId()\n",
    "            subscription_doc = {\n",
    "                \"_id\": subscription_obj_id,\n",
    "                \"customer\": DBRef(\"customers\", customer_obj_id),\n",
    "                \"data\": subscription\n",
    "            }\n",
    "            subscription_ops.append(InsertOne(subscription_doc))\n",
    "\n",
    "    if customer_ops:\n",
    "        db.customers.bulk_write(customer_ops)\n",
    "    if subscription_ops:\n",
    "        db.subscriptions.bulk_write(subscription_ops)\n",
    "\n",
    "    end_time = time.time()\n",
    "    print(\"Bulk Operations Write Time:\", end_time - start_time)"
   ]
  },
  {
   "cell_type": "code",
   "execution_count": null,
   "id": "da9f6547-a91b-4d4d-bf18-5371df771642",
   "metadata": {},
   "outputs": [],
   "source": [
    "# Run bulk operations\n",
    "print(\"Running bulk operations...\")\n",
    "insert_bulk_ops(file_path)"
   ]
  },
  {
   "cell_type": "code",
   "execution_count": null,
   "id": "37c8f369-0e4d-43a1-94f1-37d940bb4c02",
   "metadata": {},
   "outputs": [],
   "source": []
  }
 ],
 "metadata": {
  "kernelspec": {
   "display_name": "Python 3 (ipykernel)",
   "language": "python",
   "name": "python3"
  },
  "language_info": {
   "codemirror_mode": {
    "name": "ipython",
    "version": 3
   },
   "file_extension": ".py",
   "mimetype": "text/x-python",
   "name": "python",
   "nbconvert_exporter": "python",
   "pygments_lexer": "ipython3",
   "version": "3.11.9"
  }
 },
 "nbformat": 4,
 "nbformat_minor": 5
}
