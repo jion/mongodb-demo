{
 "cells": [
  {
   "cell_type": "markdown",
   "id": "03be40a7-f2a2-4985-8ecc-fa71aa2cf89b",
   "metadata": {},
   "source": [
    "## Connecting to Mongo"
   ]
  },
  {
   "cell_type": "code",
   "execution_count": 56,
   "id": "09ea7b36-2c3f-45cf-a083-9ca353c9bb4c",
   "metadata": {},
   "outputs": [
    {
     "data": {
      "text/plain": [
       "'customer_1'"
      ]
     },
     "execution_count": 56,
     "metadata": {},
     "output_type": "execute_result"
    }
   ],
   "source": [
    "from pymongo import MongoClient, UpdateOne\n",
    "from time import perf_counter\n",
    "\n",
    "client = MongoClient('mongodb://mongodb:27017/')\n",
    "db = client.demo\n",
    "\n",
    "# Create indices for faster querying\n",
    "db.subscriptions.create_index([('customer', 1)])\n",
    "db.addresses.create_index([('customer', 1)])\n",
    "db.payments.create_index([('customer', 1)])"
   ]
  },
  {
   "cell_type": "code",
   "execution_count": 47,
   "id": "c1eadcea-e337-4aa2-ba4d-db1515365545",
   "metadata": {},
   "outputs": [],
   "source": [
    "from mongo_helper import load_jsonl"
   ]
  },
  {
   "cell_type": "code",
   "execution_count": 57,
   "id": "fad73130-116c-48d5-a053-2d3c665d1124",
   "metadata": {},
   "outputs": [],
   "source": [
    "db.customers.drop()\n",
    "db.subscriptions.drop()\n",
    "db.addresses.drop()\n",
    "db.payments.drop()"
   ]
  },
  {
   "cell_type": "markdown",
   "id": "a993b10d-6b86-4e71-bf58-f77ac39d6875",
   "metadata": {},
   "source": [
    "## Approach 1: Load data in separate entities"
   ]
  },
  {
   "cell_type": "code",
   "execution_count": 58,
   "id": "84e33b95-dcd3-4549-9f88-76a887eab4c3",
   "metadata": {},
   "outputs": [],
   "source": [
    "from bson.objectid import ObjectId\n",
    "from bson.dbref import DBRef\n",
    "\n",
    "def insert_separate_entities(file_path):\n",
    "    \"\"\"Insert data into separate collections and create relationships.\"\"\"\n",
    "    customer_refs = {}\n",
    "    address_refs = {}\n",
    "    payment_refs = {}\n",
    "\n",
    "    for record in load_jsonl(file_path):\n",
    "        customer = record[\"customer\"]\n",
    "        customer_id = customer[\"merchant_user_id\"]\n",
    "        customer_obj_id = ObjectId()\n",
    "        customer_refs[customer_id] = DBRef(\"customers\", customer_obj_id)\n",
    "        customer_doc = {\n",
    "            \"_id\": customer_obj_id,\n",
    "            \"merchant_user_id\": customer_id,\n",
    "            \"data\": customer\n",
    "        }\n",
    "        db.customers.insert_one(customer_doc)\n",
    "\n",
    "        for address in record[\"addresses\"]:\n",
    "            address_id = address[\"origin\"][\"id\"]\n",
    "            address_obj_id = ObjectId()\n",
    "            address_refs[address_id] = DBRef(\"addresses\", address_obj_id)\n",
    "            address_doc = {\n",
    "                \"_id\": address_obj_id,\n",
    "                \"customer\": customer_refs[customer_id],\n",
    "                \"customer_external_id\": customer_id,\n",
    "                \"data\": address\n",
    "            }\n",
    "            db.addresses.insert_one(address_doc)\n",
    "\n",
    "        for payment in record[\"payments\"]:\n",
    "            payment_id = payment[\"origin\"][\"id\"]\n",
    "            payment_obj_id = ObjectId()\n",
    "            billing_address_id = payment[\"origin\"].get(\"billing_address\")\n",
    "            payment_doc = {\n",
    "                \"_id\": payment_obj_id,\n",
    "                \"customer\": customer_refs[customer_id],\n",
    "                \"customer_external_id\": customer_id,\n",
    "                \"billing_address\": address_refs.get(billing_address_id),\n",
    "                \"data\": payment\n",
    "            }\n",
    "            payment_refs[payment_id] = DBRef(\"payments\", payment_obj_id)\n",
    "            db.payments.insert_one(payment_doc)\n",
    "\n",
    "        for subscription in record[\"subscriptions\"]:\n",
    "            subscription_obj_id = ObjectId()\n",
    "            shipping_address_id = subscription[\"origin\"].get(\"shipping_address\")\n",
    "            payment_id = subscription[\"origin\"].get(\"payment\")\n",
    "            subscription_doc = {\n",
    "                \"_id\": subscription_obj_id,\n",
    "                \"customer\": customer_refs[customer_id],\n",
    "                \"customer_external_id\": customer_id,\n",
    "                \"shipping_address\": address_refs.get(shipping_address_id),\n",
    "                \"payment\": payment_refs.get(payment_id),\n",
    "                \"data\": subscription\n",
    "            }\n",
    "            db.subscriptions.insert_one(subscription_doc)"
   ]
  },
  {
   "cell_type": "code",
   "execution_count": 59,
   "id": "293eb2bf-c036-4155-a8de-93ef5d1fdcf0",
   "metadata": {},
   "outputs": [
    {
     "name": "stdout",
     "output_type": "stream",
     "text": [
      "Data inserted into separate collections with relationships in: 10.846546921995468\n"
     ]
    }
   ],
   "source": [
    "start_time = perf_counter()\n",
    "insert_separate_entities('10k.jsonl')\n",
    "end_time = perf_counter()\n",
    "\n",
    "print(f\"Data inserted into separate collections with relationships in: {end_time - start_time}\")"
   ]
  },
  {
   "cell_type": "markdown",
   "id": "d5777dbd-4aa9-4f8a-8823-2894a1837fcb",
   "metadata": {},
   "source": [
    "Aggregate data"
   ]
  },
  {
   "cell_type": "code",
   "execution_count": 60,
   "id": "b16a2417-38a6-437b-9b05-69b68d27b5a3",
   "metadata": {},
   "outputs": [
    {
     "name": "stdout",
     "output_type": "stream",
     "text": [
      "Live Subscriptions example: {\"subscription\": {\"live\": true, \"offer\": \"66efa00a6d5d11ec9c47ce4cb48ea2ce\", \"customer\": \"036e25cf-bd92-4a87-bdfe-5834b6fac428\", \"start_date\": \"2023-06-01\", \"next_order_date\": \"2024-12-25\", \"cancelled\": null, \"merchant_order_id\": \"56108\", \"product\": \"product2\", \"components\": null, \"every\": 10, \"every_period\": \"week\", \"price\": \"51.45\", \"quantity\": 4, \"origin\": {\"id\": \"plan-item-4626103\", \"payment\": \"payment-8405522\", \"shipping_address\": \"shipping_address-3390904\"}}, \"customer_first_name\": \"Kiara\", \"customer_last_name\": \"Roman\"}\n",
      "Aggregation Time: 0.028088092803955078\n"
     ]
    }
   ],
   "source": [
    "# Define a list of customer IDs to filter\n",
    "customer_ids = [\"036e25cf-bd92-4a87-bdfe-5834b6fac428\", \"972cf6c4-f689-46b9-a210-c0783432e894\"]\n",
    "\n",
    "# Start timing the aggregation\n",
    "start_time = time.time()\n",
    "\n",
    "# Perform the aggregation to find live subscriptions for a subset of customers\n",
    "pipeline = [\n",
    "    {\"$match\": {\"customer_external_id\": {\"$in\": customer_ids}}},\n",
    "    \n",
    "    {\"$lookup\": {\n",
    "        \"from\": \"customers\",\n",
    "        \"localField\": \"customer.$id\",\n",
    "        \"foreignField\": \"_id\",\n",
    "        \"as\": \"customer_data\"\n",
    "    }},\n",
    "    \n",
    "    {\"$unwind\": \"$customer_data\"},  # { _id, ..sub fields, [ ..customer fields ] } --> { _id, ..sub fields, ..customer fields } \n",
    "    \n",
    "    {\"$match\": {\"data.live\": True}},  # Filter for live subscriptions\n",
    "    \n",
    "    {\"$project\": {\n",
    "        \"_id\": 0,\n",
    "        \"subscription\": \"$data\",\n",
    "        \"customer_first_name\": \"$customer_data.data.first_name\",\n",
    "        \"customer_last_name\": \"$customer_data.data.last_name\"\n",
    "    }}\n",
    "]\n",
    "\n",
    "# Execute the aggregation pipeline\n",
    "live_subscriptions = list(db.subscriptions.aggregate(pipeline))\n",
    "\n",
    "# End timing the aggregation\n",
    "end_time = time.time()\n",
    "\n",
    "# Print the results and the time taken\n",
    "import json\n",
    "print(\"Live Subscriptions example:\", json.dumps(live_subscriptions[0]))\n",
    "print(\"Aggregation Time:\", end_time - start_time)\n"
   ]
  },
  {
   "cell_type": "code",
   "execution_count": null,
   "id": "60bfe5e6-8371-4d56-8ece-823202189c51",
   "metadata": {},
   "outputs": [],
   "source": []
  }
 ],
 "metadata": {
  "kernelspec": {
   "display_name": "Python 3 (ipykernel)",
   "language": "python",
   "name": "python3"
  },
  "language_info": {
   "codemirror_mode": {
    "name": "ipython",
    "version": 3
   },
   "file_extension": ".py",
   "mimetype": "text/x-python",
   "name": "python",
   "nbconvert_exporter": "python",
   "pygments_lexer": "ipython3",
   "version": "3.11.9"
  }
 },
 "nbformat": 4,
 "nbformat_minor": 5
}
