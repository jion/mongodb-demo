{
 "cells": [
  {
   "cell_type": "markdown",
   "id": "04b693f1-96ac-4f8f-8ec1-3a39ab73ef3e",
   "metadata": {},
   "source": [
    "# Crud Ops with `mongoengine`"
   ]
  },
  {
   "cell_type": "code",
   "execution_count": 1,
   "id": "8368da2f-f144-40a9-afb3-68bd2de58eb8",
   "metadata": {},
   "outputs": [],
   "source": [
    "from mongoengine import Document, StringField, EmailField, IntField, ValidationError, connect, disconnect\n",
    "from pymongo import MongoClient\n",
    "\n",
    "disconnect()\n",
    "db = connect(host='mongodb://mongodb:27017/mongoengine')\n",
    "db.drop_database('mongoengine')\n",
    "\n",
    "\n",
    "class User(Document):\n",
    "    username = StringField(required=True, unique=True, min_length=4, max_length=50)\n",
    "    email = EmailField(required=True, unique=True)\n",
    "    age = IntField(min_value=18, max_value=100)\n",
    "\n",
    "    def clean(self):\n",
    "        # Custom validation\n",
    "        if not self.username.isalnum():\n",
    "            raise ValidationError(\"Username should contain only alphanumeric characters\")\n",
    "\n",
    "\n",
    "# Ensure indexes are created\n",
    "User.ensure_indexes()"
   ]
  },
  {
   "cell_type": "markdown",
   "id": "c780bd47-9eeb-4765-965b-664a3ea42c85",
   "metadata": {},
   "source": [
    "## Create"
   ]
  },
  {
   "cell_type": "code",
   "execution_count": 3,
   "id": "2bb9160f-b817-49e7-a9c6-858ca3aabfe1",
   "metadata": {},
   "outputs": [],
   "source": [
    "user = User.objects.create(username=\"Alice\", email=\"alice@example.net\", age=18)"
   ]
  },
  {
   "cell_type": "code",
   "execution_count": 4,
   "id": "5aad064a-20b0-4a7c-a171-bfde91c47c3a",
   "metadata": {},
   "outputs": [
    {
     "data": {
      "text/plain": [
       "'{\"_id\": {\"$oid\": \"66670c5f9bc009480646e9ed\"}, \"username\": \"Alice\", \"email\": \"alice@example.net\", \"age\": 18}'"
      ]
     },
     "execution_count": 4,
     "metadata": {},
     "output_type": "execute_result"
    }
   ],
   "source": [
    "user = User.objects.filter(username=\"Alice\").first()\n",
    "user.to_json()"
   ]
  },
  {
   "cell_type": "markdown",
   "id": "e74ed192-2f28-49bf-b4e9-4c96f32e2e17",
   "metadata": {},
   "source": [
    "## Update"
   ]
  },
  {
   "cell_type": "code",
   "execution_count": 5,
   "id": "2f6422d3-818c-4443-8be6-47d243a635b9",
   "metadata": {},
   "outputs": [
    {
     "data": {
      "text/plain": [
       "1"
      ]
     },
     "execution_count": 5,
     "metadata": {},
     "output_type": "execute_result"
    }
   ],
   "source": [
    "user.email = \"alice@ordergoove.com\"\n",
    "user.save()\n",
    "\n",
    "User.objects.filter(username=\"Alice\").update(age=28)"
   ]
  },
  {
   "cell_type": "code",
   "execution_count": 6,
   "id": "de678c46-6c6e-4395-9c28-b415dde59e62",
   "metadata": {},
   "outputs": [
    {
     "data": {
      "text/plain": [
       "'[{\"_id\": {\"$oid\": \"66670c5f9bc009480646e9ed\"}, \"username\": \"Alice\", \"email\": \"alice@ordergoove.com\", \"age\": 28}]'"
      ]
     },
     "execution_count": 6,
     "metadata": {},
     "output_type": "execute_result"
    }
   ],
   "source": [
    "user = User.objects.filter(username=\"Alice\")\n",
    "user.to_json()"
   ]
  },
  {
   "cell_type": "markdown",
   "id": "6f338731-6999-4176-b5d8-6e6c82e04b24",
   "metadata": {},
   "source": [
    "## Relationships between models"
   ]
  },
  {
   "cell_type": "code",
   "execution_count": 7,
   "id": "e414a3c3-42e8-4891-9e97-c226f84c3ccf",
   "metadata": {},
   "outputs": [],
   "source": [
    "from mongoengine import ReferenceField\n",
    "\n",
    "\n",
    "# Define the Post model --- CONSTRAINTS ARE ENFORCED BY MONGOENGINE ITSELF, NOT BY PYMONGO\n",
    "class Post(Document):\n",
    "    title = StringField(required=True, min_length=1, max_length=200)\n",
    "    content = StringField(required=True, min_length=1)\n",
    "    author = ReferenceField(User, required=True)\n",
    "\n",
    "\n",
    "# Ensure indexes are created\n",
    "Post.ensure_indexes()"
   ]
  },
  {
   "cell_type": "code",
   "execution_count": 8,
   "id": "a5d9e039-9554-4f56-a708-a8eacbad134b",
   "metadata": {},
   "outputs": [
    {
     "data": {
      "text/plain": [
       "<Post: Post object>"
      ]
     },
     "execution_count": 8,
     "metadata": {},
     "output_type": "execute_result"
    }
   ],
   "source": [
    "author = User.objects.get(username=\"Alice\")\n",
    "\n",
    "post = Post(title=\"First Post\", content=\"This is the content of the first post.\", author=author)\n",
    "post.save()"
   ]
  },
  {
   "cell_type": "code",
   "execution_count": 9,
   "id": "cace95b5-c05d-4634-8d32-d6b34fabe2a5",
   "metadata": {},
   "outputs": [
    {
     "data": {
      "text/plain": [
       "'{\"_id\": {\"$oid\": \"66670c8c9bc009480646e9ee\"}, \"title\": \"First Post\", \"content\": \"This is the content of the first post.\", \"author\": {\"$oid\": \"66670c5f9bc009480646e9ed\"}}'"
      ]
     },
     "execution_count": 9,
     "metadata": {},
     "output_type": "execute_result"
    }
   ],
   "source": [
    "post = Post.objects.first()\n",
    "post.to_json()"
   ]
  },
  {
   "cell_type": "code",
   "execution_count": 10,
   "id": "72600ccd-68da-4857-9558-dd799484f2da",
   "metadata": {},
   "outputs": [
    {
     "data": {
      "text/plain": [
       "(<User: User object>,\n",
       " '{\"_id\": {\"$oid\": \"66670c5f9bc009480646e9ed\"}, \"username\": \"Alice\", \"email\": \"alice@ordergoove.com\", \"age\": 28}')"
      ]
     },
     "execution_count": 10,
     "metadata": {},
     "output_type": "execute_result"
    }
   ],
   "source": [
    "post.author, post.author.to_json()"
   ]
  },
  {
   "cell_type": "markdown",
   "id": "d33ccb7c-95f4-4e78-b572-b4cc72531cb2",
   "metadata": {},
   "source": [
    "## Delete"
   ]
  },
  {
   "cell_type": "code",
   "execution_count": 11,
   "id": "7bd61717-eb00-4437-acd0-84eb3608596c",
   "metadata": {},
   "outputs": [
    {
     "data": {
      "text/plain": [
       "1"
      ]
     },
     "execution_count": 11,
     "metadata": {},
     "output_type": "execute_result"
    }
   ],
   "source": [
    "post.delete()\n",
    "user.delete()"
   ]
  },
  {
   "cell_type": "code",
   "execution_count": 12,
   "id": "f987ba80-66b4-40ec-a4f5-e8737666f2df",
   "metadata": {},
   "outputs": [
    {
     "data": {
      "text/plain": [
       "[]"
      ]
     },
     "execution_count": 12,
     "metadata": {},
     "output_type": "execute_result"
    }
   ],
   "source": [
    "Post.objects.all()"
   ]
  },
  {
   "cell_type": "code",
   "execution_count": 13,
   "id": "c38e9130-edd4-4bb9-8bf2-cfb0b0ddff81",
   "metadata": {},
   "outputs": [
    {
     "data": {
      "text/plain": [
       "[]"
      ]
     },
     "execution_count": 13,
     "metadata": {},
     "output_type": "execute_result"
    }
   ],
   "source": [
    "User.objects.all()"
   ]
  },
  {
   "cell_type": "markdown",
   "id": "963e8120-b521-4dcd-89c9-4d9e31dd8bda",
   "metadata": {},
   "source": [
    "# PyMongo"
   ]
  }
 ],
 "metadata": {
  "kernelspec": {
   "display_name": "Python 3 (ipykernel)",
   "language": "python",
   "name": "python3"
  },
  "language_info": {
   "codemirror_mode": {
    "name": "ipython",
    "version": 3
   },
   "file_extension": ".py",
   "mimetype": "text/x-python",
   "name": "python",
   "nbconvert_exporter": "python",
   "pygments_lexer": "ipython3",
   "version": "3.11.9"
  }
 },
 "nbformat": 4,
 "nbformat_minor": 5
}
