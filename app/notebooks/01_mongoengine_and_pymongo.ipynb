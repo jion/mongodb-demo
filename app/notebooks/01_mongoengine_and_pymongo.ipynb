{
 "cells": [
  {
   "cell_type": "code",
   "execution_count": 1,
   "id": "e7887157-a554-4580-803d-377d4a260ed4",
   "metadata": {},
   "outputs": [],
   "source": [
    "from mongoengine import Document, StringField, IntField, EmailField, DateTimeField, BooleanField, ListField, EmbeddedDocument, EmbeddedDocumentField\n",
    "import mongoengine as me\n",
    "import datetime\n",
    "\n",
    "\n",
    "class Address(EmbeddedDocument):\n",
    "    street = StringField(required=True, max_length=200)\n",
    "    city = StringField(required=True, max_length=100)\n",
    "    state = StringField(max_length=2, regex=r'^[A-Z]{2}$')  # State code, e.g., NY, CA\n",
    "    zip_code = StringField(required=True, max_length=10, regex=r'^\\d{5}(-\\d{4})?$')\n",
    "\n",
    "\n",
    "class Customer(Document):\n",
    "    first_name = StringField(required=True, max_length=50)\n",
    "    last_name = StringField(required=True, max_length=50)\n",
    "    email = EmailField(required=True, unique=True)\n",
    "    age = IntField(min_value=18, max_value=100)\n",
    "    created_at = DateTimeField(required=True, default=datetime.datetime.now)\n",
    "    active = BooleanField(default=True)\n",
    "    roles = ListField(StringField(choices=('admin', 'user', 'guest')))\n",
    "    address = EmbeddedDocumentField(Address)\n",
    "    \n",
    "    meta = {\n",
    "        'collection': 'customers',  # Custom collection name\n",
    "        'indexes': [\n",
    "            'email',  # Simple index\n",
    "            'last_name',  # Another simple index\n",
    "            {'fields': ('first_name', 'last_name'), 'unique': True},  # Compound index\n",
    "        ],\n",
    "        'auto_create_index': True,  # Automatically create indexes defined above\n",
    "        'auto_create_index_on_save': True,\n",
    "        'ordering': ['-created_at'],  # Default ordering\n",
    "        'strict': False,  # Allow fields not defined in the schema\n",
    "    }"
   ]
  },
  {
   "cell_type": "code",
   "execution_count": 3,
   "id": "17714cbe-0dbe-4e67-a6ca-4e0a8c09be2c",
   "metadata": {},
   "outputs": [
    {
     "data": {
      "text/plain": [
       "<Customer: Customer object>"
      ]
     },
     "execution_count": 3,
     "metadata": {},
     "output_type": "execute_result"
    }
   ],
   "source": [
    "# Connect to MongoDB\n",
    "me.disconnect()\n",
    "db = me.connect(host='mongodb://mongodb:27017/mongoengine')\n",
    "db.drop_database('mongoengine')\n",
    "\n",
    "# Create a new customer\n",
    "john_doe = Customer(\n",
    "    first_name=\"John\",\n",
    "    last_name=\"Doe\",\n",
    "    email=\"john.doe@example.com\",\n",
    "    age=18,\n",
    "    roles=[\"admin\", \"user\"],\n",
    "    address=Address(\n",
    "        street=\"123 Main St\",\n",
    "        city=\"Anytown\",\n",
    "        state=\"NY\",\n",
    "        zip_code=\"12345\"\n",
    "    )\n",
    ")\n",
    "\n",
    "# Save the customer to the database\n",
    "john_doe.save()"
   ]
  },
  {
   "cell_type": "code",
   "execution_count": 4,
   "id": "75611684-84cc-4771-b4ff-fecc9de1b5a1",
   "metadata": {},
   "outputs": [
    {
     "name": "stdout",
     "output_type": "stream",
     "text": [
      "{\n",
      "    \"_id\": {\n",
      "        \"$oid\": \"666a2cb85a269c931e53382e\"\n",
      "    },\n",
      "    \"first_name\": \"John\",\n",
      "    \"last_name\": \"Doe\",\n",
      "    \"email\": \"john.doe@example.com\",\n",
      "    \"age\": 18,\n",
      "    \"created_at\": {\n",
      "        \"$date\": 1718234296565\n",
      "    },\n",
      "    \"active\": true,\n",
      "    \"roles\": [\n",
      "        \"admin\",\n",
      "        \"user\"\n",
      "    ],\n",
      "    \"address\": {\n",
      "        \"street\": \"123 Main St\",\n",
      "        \"city\": \"Anytown\",\n",
      "        \"state\": \"NY\",\n",
      "        \"zip_code\": \"12345\"\n",
      "    }\n",
      "}\n"
     ]
    }
   ],
   "source": [
    "print(john_doe.to_json(indent=4))"
   ]
  },
  {
   "cell_type": "code",
   "execution_count": 5,
   "id": "01f5ac64-c3c7-4885-bc29-dbca4194b0d8",
   "metadata": {},
   "outputs": [
    {
     "data": {
      "text/plain": [
       "'{\"_id\": {\"$oid\": \"666a2ce35a269c931e53382f\"}, \"first_name\": \"Jane\", \"last_name\": \"Smith\", \"email\": \"jane.smith@example.com\", \"age\": 18, \"created_at\": {\"$date\": 1718234339858}, \"active\": true, \"roles\": [\"user\"], \"address\": {\"street\": \"123 Main St\", \"city\": \"New York\", \"state\": \"NY\", \"zip_code\": \"12345\"}}'"
      ]
     },
     "execution_count": 5,
     "metadata": {},
     "output_type": "execute_result"
    }
   ],
   "source": [
    "jane = Customer.objects.create(\n",
    "    first_name=\"Jane\",\n",
    "    last_name=\"Smith\",\n",
    "    email=\"jane.smith@example.com\",\n",
    "    age=18,\n",
    "    roles=[\"user\"],\n",
    "    address=Address(\n",
    "        street=\"123 Main St\",\n",
    "        city=\"New York\",\n",
    "        state=\"NY\",\n",
    "        zip_code=\"12345\"\n",
    "    )\n",
    ")\n",
    "jane.to_json()"
   ]
  },
  {
   "cell_type": "code",
   "execution_count": 8,
   "id": "e045e348-191f-4c4e-8217-a7879fe3c01e",
   "metadata": {},
   "outputs": [
    {
     "data": {
      "text/plain": [
       "[<Customer: Customer object>]"
      ]
     },
     "execution_count": 8,
     "metadata": {},
     "output_type": "execute_result"
    }
   ],
   "source": [
    "results = Customer.objects.filter(address__city=\"Anytown\")\n",
    "results"
   ]
  },
  {
   "cell_type": "code",
   "execution_count": 9,
   "id": "dc28201c-0c72-4c64-8948-ab9a56d65cb0",
   "metadata": {},
   "outputs": [
    {
     "name": "stdout",
     "output_type": "stream",
     "text": [
      "[\n",
      "    {\n",
      "        \"_id\": {\n",
      "            \"$oid\": \"666a2cb85a269c931e53382e\"\n",
      "        },\n",
      "        \"first_name\": \"John\",\n",
      "        \"last_name\": \"Doe\",\n",
      "        \"email\": \"john.doe@example.com\",\n",
      "        \"age\": 18,\n",
      "        \"created_at\": {\n",
      "            \"$date\": 1718234296565\n",
      "        },\n",
      "        \"active\": true,\n",
      "        \"roles\": [\n",
      "            \"admin\",\n",
      "            \"user\"\n",
      "        ],\n",
      "        \"address\": {\n",
      "            \"street\": \"123 Main St\",\n",
      "            \"city\": \"Anytown\",\n",
      "            \"state\": \"NY\",\n",
      "            \"zip_code\": \"12345\"\n",
      "        }\n",
      "    }\n",
      "]\n"
     ]
    }
   ],
   "source": [
    "print(results.to_json(indent=4))"
   ]
  },
  {
   "cell_type": "markdown",
   "id": "6cbdc47f-a6da-4da9-b46c-f3f0c20b4479",
   "metadata": {},
   "source": [
    "## Relationships between models"
   ]
  },
  {
   "cell_type": "code",
   "execution_count": 10,
   "id": "cc299721-e3e1-4c56-a3d3-9d3cdf63b231",
   "metadata": {},
   "outputs": [],
   "source": [
    "from mongoengine import ReferenceField\n",
    "\n",
    "\n",
    "# Define the Post model --- CONSTRAINTS ARE ENFORCED BY MONGOENGINE, NOT BY PYMONGO\n",
    "class Post(Document):\n",
    "    title = StringField(required=True, min_length=1, max_length=200)\n",
    "    content = StringField(required=True, min_length=1)\n",
    "    \n",
    "    author = ReferenceField(Customer, required=True)\n",
    "\n",
    "\n",
    "# Ensure indexes are created\n",
    "Post.ensure_indexes()"
   ]
  },
  {
   "cell_type": "code",
   "execution_count": 11,
   "id": "e285bdb5-f81f-4622-9fcf-7f103e431ee7",
   "metadata": {},
   "outputs": [
    {
     "data": {
      "text/plain": [
       "<Post: Post object>"
      ]
     },
     "execution_count": 11,
     "metadata": {},
     "output_type": "execute_result"
    }
   ],
   "source": [
    "Post.objects.create(\n",
    "    title=\"Example title\",\n",
    "    content=\"TBD\",\n",
    "    author=jane)"
   ]
  },
  {
   "cell_type": "code",
   "execution_count": 12,
   "id": "1b68c0b6-b596-4529-b9f1-cbaaa7354fe9",
   "metadata": {},
   "outputs": [
    {
     "name": "stdout",
     "output_type": "stream",
     "text": [
      "666a2ce35a269c931e53382f\n",
      "{\n",
      "    \"_id\": {\n",
      "        \"$oid\": \"666a2d285a269c931e533830\"\n",
      "    },\n",
      "    \"title\": \"Example title\",\n",
      "    \"content\": \"TBD\",\n",
      "    \"author\": {\n",
      "        \"$oid\": \"666a2ce35a269c931e53382f\"\n",
      "    }\n",
      "}\n"
     ]
    }
   ],
   "source": [
    "print(jane.id)\n",
    "print(Post.objects.first().to_json(indent=4))"
   ]
  },
  {
   "cell_type": "markdown",
   "id": "ccc3109a-ba39-477c-8fe1-39a2b894bc73",
   "metadata": {},
   "source": [
    "# Pymongo"
   ]
  },
  {
   "cell_type": "markdown",
   "id": "3ce6c47f-14ee-4ada-8c85-fa9f16602578",
   "metadata": {},
   "source": [
    "Let's say you need to remove some fields from a customer object. In mongo, you can do that with `$unset`, but you don't have that feature in mongoengine. How to proceed?"
   ]
  },
  {
   "cell_type": "code",
   "execution_count": 13,
   "id": "a4c3b9c3-845e-4b64-94f6-5e0e31550e4b",
   "metadata": {},
   "outputs": [
    {
     "name": "stdout",
     "output_type": "stream",
     "text": [
      "SON([('_id', ObjectId('666a2cb85a269c931e53382e')), ('first_name', 'John'), ('last_name', 'Doe'), ('email', 'john.doe@example.com'), ('age', 18), ('created_at', datetime.datetime(2024, 6, 12, 23, 18, 16, 565545)), ('active', True), ('roles', ['admin', 'user']), ('address', SON([('street', '123 Main St'), ('city', 'Anytown'), ('state', 'NY'), ('zip_code', '12345')]))])\n"
     ]
    }
   ],
   "source": [
    "import pymongo\n",
    "from bson import ObjectId\n",
    "\n",
    "# Establish a connection to MongoDB using PyMongo\n",
    "client = pymongo.MongoClient('mongodb://mongodb:27017/')\n",
    "db = client['mongoengine']\n",
    "\n",
    "# Convert the MongoEngine document to its \"pymongo\" form\n",
    "customer_mongo = john_doe.to_mongo()\n",
    "print(customer_mongo)"
   ]
  },
  {
   "cell_type": "code",
   "execution_count": 14,
   "id": "bf9bb116-7c4f-489c-bbc9-f56f551a640d",
   "metadata": {},
   "outputs": [
    {
     "data": {
      "text/plain": [
       "{'_id': ObjectId('666a2cb85a269c931e53382e'),\n",
       " 'first_name': 'John',\n",
       " 'last_name': 'Doe',\n",
       " 'email': 'john.doe@example.com',\n",
       " 'age': 18,\n",
       " 'created_at': datetime.datetime(2024, 6, 12, 23, 18, 16, 565545),\n",
       " 'active': True,\n",
       " 'roles': ['admin', 'user'],\n",
       " 'address': {'street': '123 Main St',\n",
       "  'city': 'Anytown',\n",
       "  'state': 'NY',\n",
       "  'zip_code': '12345'}}"
      ]
     },
     "execution_count": 14,
     "metadata": {},
     "output_type": "execute_result"
    }
   ],
   "source": [
    "customer_mongo.to_dict()"
   ]
  },
  {
   "cell_type": "code",
   "execution_count": 15,
   "id": "bdb0ae4d-3830-402a-968e-e10a7b3ca559",
   "metadata": {},
   "outputs": [
    {
     "data": {
      "text/plain": [
       "{'_id': ObjectId('666a2cb85a269c931e53382e'),\n",
       " 'first_name': 'John',\n",
       " 'last_name': 'Doe',\n",
       " 'email': 'john.doe@example.com',\n",
       " 'created_at': datetime.datetime(2024, 6, 12, 23, 18, 16, 565000),\n",
       " 'active': True,\n",
       " 'roles': ['admin', 'user'],\n",
       " 'address': {'street': '123 Main St',\n",
       "  'city': 'Anytown',\n",
       "  'state': 'NY',\n",
       "  'zip_code': '12345'}}"
      ]
     },
     "execution_count": 15,
     "metadata": {},
     "output_type": "execute_result"
    }
   ],
   "source": [
    "# Now, use PyMongo to perform an advanced operation such as removing the 'age' field\n",
    "db.customers.update_one({'_id': customer_mongo['_id']}, {'$unset': {'age': ''}})\n",
    "\n",
    "# Verify that the 'age' field has been removed\n",
    "updated_customer = db.customers.find_one({'_id': ObjectId(customer_mongo['_id'])})\n",
    "updated_customer  # Not a \"Customer\" model but a dict"
   ]
  },
  {
   "cell_type": "code",
   "execution_count": 16,
   "id": "bca5802b-8b7f-4d97-8686-e67842f5d5bf",
   "metadata": {},
   "outputs": [
    {
     "name": "stdout",
     "output_type": "stream",
     "text": [
      "{'_id': 'NY', 'count': 2}\n"
     ]
    }
   ],
   "source": [
    "# Perform an aggregation query\n",
    "# For example, counting customers by state\n",
    "pipeline = [\n",
    "    {'$group': {'_id': '$address.state', 'count': {'$sum': 1}}},\n",
    "    {'$sort': {'count': -1}}\n",
    "]\n",
    "\n",
    "results = db.customers.aggregate(pipeline)\n",
    "for result in results:\n",
    "    print(result)"
   ]
  },
  {
   "cell_type": "code",
   "execution_count": null,
   "id": "45535669-9d4c-4cce-8d1e-ff9e35c82a69",
   "metadata": {},
   "outputs": [],
   "source": []
  }
 ],
 "metadata": {
  "kernelspec": {
   "display_name": "Python 3 (ipykernel)",
   "language": "python",
   "name": "python3"
  },
  "language_info": {
   "codemirror_mode": {
    "name": "ipython",
    "version": 3
   },
   "file_extension": ".py",
   "mimetype": "text/x-python",
   "name": "python",
   "nbconvert_exporter": "python",
   "pygments_lexer": "ipython3",
   "version": "3.11.9"
  }
 },
 "nbformat": 4,
 "nbformat_minor": 5
}
