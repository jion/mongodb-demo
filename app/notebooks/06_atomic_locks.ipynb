{
 "cells": [
  {
   "cell_type": "markdown",
   "id": "ceda1301-75a7-4bd3-9c8d-228da9b304d1",
   "metadata": {},
   "source": [
    "# Atomic locks using MongoDB"
   ]
  },
  {
   "cell_type": "code",
   "execution_count": null,
   "id": "8be6f7c6-2ad1-4254-a53d-64ab9da36117",
   "metadata": {},
   "outputs": [],
   "source": [
    "from pymongo import MongoClient, UpdateOne\n",
    "from color_helpers import c\n",
    "\n",
    "client = MongoClient('mongodb://mongodb:27017/')\n",
    "db = client.atomic_locks_demo\n",
    "\n",
    "# Initialize the staging area document\n",
    "db.stagingArea.drop()\n",
    "db.stagingArea.insert_one({\n",
    "    \"_id\": \"merchant1\",\n",
    "    \"status\": \"IDLE\",\n",
    "})"
   ]
  },
  {
   "cell_type": "markdown",
   "id": "3bd821ce-bb3d-4390-a479-97bbf025601a",
   "metadata": {},
   "source": [
    "Now, we define a simple task to simulate exclusive execution on staging area data:"
   ]
  },
  {
   "cell_type": "code",
   "execution_count": null,
   "id": "94dec575-d094-4bd1-921c-d686ea66fa46",
   "metadata": {},
   "outputs": [],
   "source": [
    "def task(process_name, color):\n",
    "    print(f\"{process_name} > {color}{c.BOLD}❚{c.ENDC} Task is being executed...\")\n",
    "    time.sleep(random.uniform(0.1, 0.2))\n",
    "    print(f\"{process_name} > {color}{c.BOLD}❚{c.ENDC} Task completed\")\n",
    "    "
   ]
  },
  {
   "cell_type": "markdown",
   "id": "eb5bceb5-e735-4101-b96b-3eb796b4c11c",
   "metadata": {},
   "source": [
    "## The wrong way: non-atomic lock"
   ]
  },
  {
   "cell_type": "code",
   "execution_count": null,
   "id": "bb6892b7-93d9-4c2a-a55a-cf997286911f",
   "metadata": {},
   "outputs": [],
   "source": [
    "import time\n",
    "import random\n",
    "\n",
    "def non_atomic_lock(merchant_id, process_name, task, color, retries=1000):\n",
    "    for attempt in range(retries):\n",
    "\n",
    "        staging_area = db.stagingArea.find_one({ \"_id\": merchant_id })\n",
    "        if staging_area['status'] == \"IDLE\":\n",
    "            \n",
    "            # Staging Area is IDLE!, Acquire the lock\n",
    "            print(f\"{process_name} > 🔒 Lock acquired\")\n",
    "            time.sleep(random.uniform(0.01, 0.05))  # Simulate a delay to create a race condition\n",
    "            db.stagingArea.update_one(\n",
    "              { \"_id\": merchant_id },\n",
    "              { \"$set\": { \"status\": \"PROCESSING\" } }\n",
    "            )\n",
    "\n",
    "            # Critical Area ########\n",
    "            task(process_name, color)\n",
    "            ########################\n",
    "            \n",
    "            # Release the lock\n",
    "            db.stagingArea.update_one(\n",
    "              { \"_id\": merchant_id },\n",
    "              { \"$set\": { \"status\": \"IDLE\" } }\n",
    "            )\n",
    "            print(f\"{process_name} > 🔓 Lock released\")\n",
    "            return\n",
    "        else:\n",
    "            print(f\"{c.GRAY}{process_name} > ❌ Failed to acquire lock, current status is {staging_area['status']}. Retrying..{c.ENDC}\")\n",
    "            time.sleep(0.1)\n",
    "    raise Exception(\"Timeout\")"
   ]
  },
  {
   "cell_type": "code",
   "execution_count": null,
   "id": "a4920e9e-f1b4-4b5f-8aa1-855fb9c58da1",
   "metadata": {},
   "outputs": [],
   "source": [
    "from threading import Thread\n",
    "\n",
    "def simulate_non_atomic_race_condition(iterations):\n",
    "    merchant_id = \"merchant1\"\n",
    "    for _ in range(iterations):\n",
    "        process1 = Thread(target=non_atomic_lock, args=(merchant_id, \"PROCESS1\", task, c.GREEN))\n",
    "        process2 = Thread(target=non_atomic_lock, args=(merchant_id, \"PROCESS2\", task, c.RED))\n",
    "\n",
    "        process1.start()\n",
    "        process2.start()\n",
    "\n",
    "        process1.join()\n",
    "        process2.join()\n",
    "\n",
    "\n",
    "# Run simulations\n",
    "print(\"Running non-atomic lock simulation...\")\n",
    "simulate_non_atomic_race_condition(5)\n"
   ]
  },
  {
   "cell_type": "markdown",
   "id": "f0ba3b89-eb08-478b-8732-5aefd67eda1b",
   "metadata": {},
   "source": [
    "# Implementing atomic locks with MongoDB"
   ]
  },
  {
   "cell_type": "code",
   "execution_count": null,
   "id": "ffeb70a8-8969-4b05-8636-d8ceb7f60f24",
   "metadata": {},
   "outputs": [],
   "source": [
    "from pymongo.collection import ReturnDocument\n",
    "\n",
    "def atomic_lock(merchant_id, process_name, task, color, retries=1000):\n",
    "    for attempt in range(retries):\n",
    "        # Use findOneAndUpdate to atomically update the status\n",
    "        result = db.stagingArea.find_one_and_update(\n",
    "            {\"_id\": merchant_id, \"status\": \"IDLE\"},\n",
    "            {\"$set\": { \"status\": \"PROCESSING\" }},\n",
    "            return_document=ReturnDocument.AFTER,\n",
    "        )\n",
    "\n",
    "        if not result:\n",
    "            print(f\"{c.GRAY}{process_name} > Failed to acquire lock, current status is not IDLE{c.ENDC}\")\n",
    "            time.sleep(0.1) # Wait for a short time before retrying\n",
    "            continue\n",
    "\n",
    "        print(f\"{process_name} > 🔒 Lock acquired\")\n",
    "        # Critical Area ########\n",
    "        task(process_name, color)\n",
    "        ########################\n",
    "        \n",
    "        # Release the lock\n",
    "        db.stagingArea.update_one(\n",
    "            {\"_id\": merchant_id},\n",
    "            {\"$set\": {\"status\": \"IDLE\"}}\n",
    "        )\n",
    "        print(f\"{process_name} > 🔓 Lock released\")\n",
    "        return\n",
    "\n",
    "    raise TimeoutError(\"All retries exhausted\")\n",
    "            "
   ]
  },
  {
   "cell_type": "code",
   "execution_count": null,
   "id": "b8626f97-5412-41b1-82ee-e503b80e1193",
   "metadata": {},
   "outputs": [],
   "source": [
    "def simulate_atomic_race_condition(iterations):\n",
    "    merchant_id = \"merchant1\"\n",
    "    for _ in range(iterations):\n",
    "        process1 = Thread(target=atomic_lock, args=(merchant_id, \"PROCESS1\", task, c.GREEN))\n",
    "        process2 = Thread(target=atomic_lock, args=(merchant_id, \"PROCESS2\", task, c.RED))\n",
    "\n",
    "        process1.start()\n",
    "        process2.start()\n",
    "\n",
    "        process1.join()\n",
    "        process2.join()\n",
    "\n",
    "\n",
    "# Run simulations\n",
    "print(\"Running atomic lock simulation...\")\n",
    "simulate_atomic_race_condition(5)"
   ]
  },
  {
   "cell_type": "code",
   "execution_count": null,
   "id": "230e2213-e5df-4611-aa3f-8c8239253fe0",
   "metadata": {},
   "outputs": [],
   "source": []
  }
 ],
 "metadata": {
  "kernelspec": {
   "display_name": "Python 3 (ipykernel)",
   "language": "python",
   "name": "python3"
  },
  "language_info": {
   "codemirror_mode": {
    "name": "ipython",
    "version": 3
   },
   "file_extension": ".py",
   "mimetype": "text/x-python",
   "name": "python",
   "nbconvert_exporter": "python",
   "pygments_lexer": "ipython3",
   "version": "3.11.9"
  }
 },
 "nbformat": 4,
 "nbformat_minor": 5
}
