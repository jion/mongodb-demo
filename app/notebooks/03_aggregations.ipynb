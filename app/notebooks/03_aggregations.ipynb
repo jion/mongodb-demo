{
 "cells": [
  {
   "cell_type": "code",
   "execution_count": null,
   "id": "7772d75a-1c2e-47a9-b860-84771681dc53",
   "metadata": {},
   "outputs": [],
   "source": [
    "import pymongo\n",
    "import json\n",
    "\n",
    "# Establish a connection to MongoDB using PyMongo\n",
    "client = pymongo.MongoClient('mongodb://mongodb:27017/')\n",
    "db = client['aggregations']\n",
    "\n",
    "db.customers.drop()\n",
    "db.orders.drop()"
   ]
  },
  {
   "cell_type": "markdown",
   "id": "649eb82d-ce18-4146-8c47-65d4b97e84b8",
   "metadata": {},
   "source": [
    "Let’s consider two collections: `customers` and `orders`."
   ]
  },
  {
   "cell_type": "code",
   "execution_count": null,
   "id": "90bc66ef-8bb6-491e-8ac9-73eb3e4334e5",
   "metadata": {},
   "outputs": [],
   "source": [
    "customers = [\n",
    "  { \"_id\": 1, \"name\": \"Alice\" },\n",
    "  { \"_id\": 2, \"name\": \"Bob\" },\n",
    "  { \"_id\": 3, \"name\": \"Charlie\" }\n",
    "]\n",
    "db.customers.insert_many(customers)"
   ]
  },
  {
   "cell_type": "code",
   "execution_count": null,
   "id": "dae31048-f370-4c66-9f40-99331c8d22c2",
   "metadata": {},
   "outputs": [],
   "source": [
    "orders = [\n",
    "  { \"_id\": 1, \"customer_id\": 1, \"item\": \"Book\", \"quantity\": 2 },\n",
    "  { \"_id\": 2, \"customer_id\": 1, \"item\": \"Pen\", \"quantity\": 5 },\n",
    "  { \"_id\": 3, \"customer_id\": 2, \"item\": \"Notebook\", \"quantity\": 1 }\n",
    "]\n",
    "db.orders.insert_many(orders)"
   ]
  },
  {
   "cell_type": "markdown",
   "id": "621eb254-72a5-4c21-9f60-5be17080cc18",
   "metadata": {},
   "source": [
    "### Left Outer Join Using `$lookup`\n",
    "\n",
    "The following aggregation performs a left outer join on the customers and orders collections:"
   ]
  },
  {
   "cell_type": "code",
   "execution_count": null,
   "id": "74c6b41c-5882-4b53-ad18-6fc43a690179",
   "metadata": {},
   "outputs": [],
   "source": [
    "results = db.customers.aggregate([\n",
    "  {\n",
    "    '$lookup': {\n",
    "      'from': \"orders\",\n",
    "      'localField': \"_id\",\n",
    "      'foreignField': \"customer_id\",\n",
    "      'as': \"orders\"\n",
    "    }\n",
    "  }\n",
    "])\n",
    "\n",
    "print(json.dumps(list(results), indent=2))"
   ]
  },
  {
   "cell_type": "markdown",
   "id": "dad925f4-85ed-47b6-8a38-d441d3629353",
   "metadata": {},
   "source": [
    "**Result**\n",
    "\n",
    "This will return all customers and their corresponding orders. If a customer has no orders, the orders field will be an empty array."
   ]
  },
  {
   "cell_type": "markdown",
   "id": "16df8f4e-d62a-4ac8-8681-3c96156b0b49",
   "metadata": {},
   "source": [
    "### Simulating Inner Join\n",
    "\n",
    "To filter out customers without any orders (simulate an inner join), we can use the `$match` stage after the `$lookup`:"
   ]
  },
  {
   "cell_type": "code",
   "execution_count": null,
   "id": "ce913005-a31d-4b49-9a60-95b8abe623d4",
   "metadata": {},
   "outputs": [],
   "source": [
    "results = db.customers.aggregate([\n",
    "  {\n",
    "    '$lookup': {\n",
    "      'from': \"orders\",\n",
    "      'localField': \"_id\",\n",
    "      'foreignField': \"customer_id\",\n",
    "      'as': \"orders\"\n",
    "    }\n",
    "  },\n",
    "\n",
    "  {\n",
    "    '$match': {\n",
    "      \"orders\": { '$ne': [] }\n",
    "    }\n",
    "  }\n",
    "])\n",
    "\n",
    "print(json.dumps(list(results), indent=2))"
   ]
  },
  {
   "cell_type": "code",
   "execution_count": null,
   "id": "33c03f7b-b6d5-4c21-b9de-3e13e9b3cd4a",
   "metadata": {},
   "outputs": [],
   "source": [
    "results = db.customers.aggregate([\n",
    "  {\n",
    "    '$lookup': {\n",
    "      'from': \"orders\",\n",
    "      'localField': \"_id\",\n",
    "      'foreignField': \"customer_id\",\n",
    "      'as': \"orders\"\n",
    "    }\n",
    "  },\n",
    "\n",
    "  {\n",
    "    '$unwind': {\n",
    "        'path': \"$orders\",\n",
    "        'preserveNullAndEmptyArrays': False\n",
    "    }\n",
    "  }\n",
    "])\n",
    "\n",
    "print(json.dumps(list(results), indent=2))"
   ]
  },
  {
   "cell_type": "code",
   "execution_count": null,
   "id": "c6a864de-b208-4a0a-b3b3-728b0c916080",
   "metadata": {},
   "outputs": [],
   "source": []
  }
 ],
 "metadata": {
  "kernelspec": {
   "display_name": "Python 3 (ipykernel)",
   "language": "python",
   "name": "python3"
  },
  "language_info": {
   "codemirror_mode": {
    "name": "ipython",
    "version": 3
   },
   "file_extension": ".py",
   "mimetype": "text/x-python",
   "name": "python",
   "nbconvert_exporter": "python",
   "pygments_lexer": "ipython3",
   "version": "3.11.9"
  }
 },
 "nbformat": 4,
 "nbformat_minor": 5
}
