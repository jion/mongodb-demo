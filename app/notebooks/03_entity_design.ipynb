{
 "cells": [
  {
   "cell_type": "code",
   "execution_count": 9,
   "id": "9b0b1aad-4a96-40bd-a191-ecaf4d806f93",
   "metadata": {},
   "outputs": [],
   "source": [
    "from pymongo import MongoClient\n",
    "import time\n",
    "\n",
    "# Connect to MongoDB\n",
    "client = MongoClient('mongodb://mongodb:27017/')\n",
    "db = client['entities_design']\n",
    "\n",
    "# Drop collections if they already exist\n",
    "db.customers.drop()\n",
    "db.subscriptions.drop()\n",
    "db.customers_denorm.drop()"
   ]
  },
  {
   "cell_type": "code",
   "execution_count": 10,
   "id": "f169eb5e-6711-4723-8072-b7fe1afe37e2",
   "metadata": {},
   "outputs": [
    {
     "data": {
      "text/plain": [
       "InsertManyResult([1, 2, 3], acknowledged=True)"
      ]
     },
     "execution_count": 10,
     "metadata": {},
     "output_type": "execute_result"
    }
   ],
   "source": [
    "# Create collections\n",
    "customers = db['customers']\n",
    "subscriptions = db['subscriptions']\n",
    "\n",
    "# Insert sample customers\n",
    "customers.insert_many([\n",
    "    {\"_id\": 1, \"name\": \"John Doe\"},\n",
    "    {\"_id\": 2, \"name\": \"Jane Smith\"}\n",
    "])\n",
    "\n",
    "# Insert sample subscriptions\n",
    "subscriptions.insert_many([\n",
    "    {\"_id\": 1, \"customer_id\": 1, \"plan\": \"Basic\", \"status\": \"Active\"},\n",
    "    {\"_id\": 2, \"customer_id\": 1, \"plan\": \"Premium\", \"status\": \"Inactive\"},\n",
    "    {\"_id\": 3, \"customer_id\": 2, \"plan\": \"Basic\", \"status\": \"Active\"}\n",
    "])"
   ]
  },
  {
   "cell_type": "code",
   "execution_count": null,
   "id": "8ea29401-15b6-4669-a6b3-d2cf32a8095a",
   "metadata": {},
   "outputs": [],
   "source": [
    "# Fetch data using multiple queries (Normalized Model)\n",
    "customer = customers.find_one({\"_id\": 1})\n",
    "customer_subscriptions = subscriptions.find({\"customer_id\": 1})\n",
    "customer_data = {\n",
    "    \"name\": customer['name'],\n",
    "    \"subscriptions\": list(customer_subscriptions)\n",
    "}\n",
    "\n",
    "print(\"Normalized Model - Customer Data with Subscriptions:\")\n",
    "print(customer_data)"
   ]
  },
  {
   "cell_type": "code",
   "execution_count": null,
   "id": "f8e77d3f-cd5b-4f58-bc86-3c40949b5d9c",
   "metadata": {},
   "outputs": [],
   "source": [
    "\n",
    "# Create denormalized collection\n",
    "customers_denorm = db['customers_denorm']\n",
    "\n",
    "# Insert sample data with embedded subscriptions\n",
    "customers_denorm.insert_many([\n",
    "    {\n",
    "        \"_id\": 1, \n",
    "        \"name\": \"John Doe\",\n",
    "        \"subscriptions\": [\n",
    "            {\"plan\": \"Basic\", \"status\": \"Active\"},\n",
    "            {\"plan\": \"Premium\", \"status\": \"Inactive\"}\n",
    "        ]\n",
    "    },\n",
    "    {\n",
    "        \"_id\": 2,\n",
    "        \"name\": \"Jane Smith\",\n",
    "        \"subscriptions\": [\n",
    "            {\"plan\": \"Basic\", \"status\": \"Active\"}\n",
    "        ]\n",
    "    }\n",
    "])\n",
    "\n",
    "# Fetch data using single query (Denormalized Model)\n",
    "customer_data_denorm = customers_denorm.find_one({\"_id\": 1})\n",
    "\n",
    "print(\"Denormalized Model - Customer Data with Subscriptions:\")\n",
    "print(customer_data_denorm)"
   ]
  },
  {
   "cell_type": "code",
   "execution_count": null,
   "id": "830259b8-cf19-4c31-99ab-79fb271331d8",
   "metadata": {},
   "outputs": [],
   "source": [
    "# Perform $lookup aggregation to join customers and subscriptions\n",
    "pipeline = [\n",
    "    {\n",
    "        \"$lookup\": {\n",
    "            \"from\": \"subscriptions\",\n",
    "            \"localField\": \"_id\",\n",
    "            \"foreignField\": \"customer_id\",\n",
    "            \"as\": \"subscriptions\"\n",
    "        }\n",
    "    },\n",
    "    {\n",
    "        \"$match\": {\n",
    "            \"_id\": 1\n",
    "        }\n",
    "    }\n",
    "]\n",
    "\n",
    "result = list(customers.aggregate(pipeline))\n",
    "\n",
    "print(\"Normalized Model with $lookup Aggregation - Customer Data with Subscriptions:\")\n",
    "print(result)\n",
    "\n",
    "# Measure performance of $lookup aggregation\n",
    "start_time = time.time()\n",
    "result = list(customers.aggregate(pipeline))\n",
    "lookup_duration = time.time() - start_time\n",
    "\n",
    "print(\"Time taken for $lookup aggregation:\", lookup_duration, \"seconds\")\n",
    "\n",
    "# Measure performance of fetching from denormalized model\n",
    "start_time = time.time()\n",
    "customer_data_denorm = customers_denorm.find_one({\"_id\": 1})\n",
    "denorm_duration = time.time() - start_time\n",
    "\n",
    "print(\"Time taken for fetching from denormalized model:\", denorm_duration, \"seconds\")\n"
   ]
  },
  {
   "cell_type": "code",
   "execution_count": null,
   "id": "565bfc54-05a9-4245-84ed-fd30dd8e83e0",
   "metadata": {},
   "outputs": [],
   "source": []
  }
 ],
 "metadata": {
  "kernelspec": {
   "display_name": "Python 3 (ipykernel)",
   "language": "python",
   "name": "python3"
  },
  "language_info": {
   "codemirror_mode": {
    "name": "ipython",
    "version": 3
   },
   "file_extension": ".py",
   "mimetype": "text/x-python",
   "name": "python",
   "nbconvert_exporter": "python",
   "pygments_lexer": "ipython3",
   "version": "3.11.9"
  }
 },
 "nbformat": 4,
 "nbformat_minor": 5
}
