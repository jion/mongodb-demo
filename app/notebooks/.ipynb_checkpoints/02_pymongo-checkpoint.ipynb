{
 "cells": [
  {
   "cell_type": "code",
   "execution_count": null,
   "id": "b59b5882-5647-4c22-883a-f0685863cbcb",
   "metadata": {},
   "outputs": [],
   "source": [
    "# Install pymongo if not already installed\n",
    "!pip install pymongo\n",
    "\n",
    "from pymongo import MongoClient\n",
    "from bson.objectid import ObjectId"
   ]
  },
  {
   "cell_type": "code",
   "execution_count": null,
   "id": "4ab8c6f9-6629-4261-a57b-65bde0dcba97",
   "metadata": {},
   "outputs": [],
   "source": [
    "# Connect to the MongoDB server\n",
    "client = MongoClient('mongodb', 27017)\n",
    "db = client['mongoengine']\n",
    "\n",
    "# Define the collections\n",
    "users_collection = db['users']\n",
    "posts_collection = db['posts']\n",
    "\n",
    "# Ensure indexes for uniqueness\n",
    "users_collection.create_index('username', unique=True)\n",
    "users_collection.create_index('email', unique=True)\n",
    "\n",
    "# Clear collections for a clean slate\n",
    "users_collection.delete_many({})\n",
    "posts_collection.delete_many({})"
   ]
  },
  {
   "cell_type": "code",
   "execution_count": null,
   "id": "d5fde8ae-f428-46c0-aa5d-22a218d20c85",
   "metadata": {},
   "outputs": [],
   "source": [
    "# Create users\n",
    "user1 = {\"username\": \"john_doe\", \"email\": \"john@example.com\", \"age\": 25}\n",
    "user2 = {\"username\": \"jane_doe\", \"email\": \"jane@example.com\", \"age\": 22}\n",
    "\n",
    "user1_id = users_collection.insert_one(user1).inserted_id\n",
    "user2_id = users_collection.insert_one(user2).inserted_id\n",
    "\n",
    "print(f\"Created users: {user1_id}, {user2_id}\")"
   ]
  },
  {
   "cell_type": "code",
   "execution_count": null,
   "id": "11d37f37-76a2-40d2-8089-4ef894856d7d",
   "metadata": {},
   "outputs": [],
   "source": [
    "# Create posts\n",
    "post1 = {\n",
    "    \"title\": \"First Post\",\n",
    "    \"content\": \"This is the content of the first post.\",\n",
    "    \"author_id\": user1_id\n",
    "}\n",
    "post2 = {\n",
    "    \"title\": \"Second Post\",\n",
    "    \"content\": \"This is the content of the second post.\",\n",
    "    \"author_id\": user2_id\n",
    "}\n",
    "\n",
    "post1_id = posts_collection.insert_one(post1).inserted_id\n",
    "post2_id = posts_collection.insert_one(post2).inserted_id\n",
    "\n",
    "print(f\"Created posts: {post1_id}, {post2_id}\")\n"
   ]
  },
  {
   "cell_type": "code",
   "execution_count": null,
   "id": "4d7553ab-8323-475b-961e-19886d5db119",
   "metadata": {},
   "outputs": [],
   "source": [
    "# Read users\n",
    "user = users_collection.find_one({\"username\": \"john_doe\"})\n",
    "print(f\"Read user: {user}\")\n",
    "\n",
    "# Read posts with author details\n",
    "post = posts_collection.find_one({\"title\": \"First Post\"})\n",
    "author = users_collection.find_one({\"_id\": post[\"author_id\"]})\n",
    "post[\"author\"] = author\n",
    "print(f\"Read post: {post}\")"
   ]
  },
  {
   "cell_type": "code",
   "execution_count": null,
   "id": "2d9b7860-c9b3-445d-8b0a-2d439a601dc7",
   "metadata": {},
   "outputs": [],
   "source": [
    "\n",
    "# Update a user\n",
    "users_collection.update_one({\"username\": \"john_doe\"}, {\"$set\": {\"email\": \"john_doe@example.com\", \"age\": 26}})\n",
    "updated_user = users_collection.find_one({\"username\": \"john_doe\"})\n",
    "print(f\"Updated user: {updated_user}\")\n",
    "\n",
    "# Update a post\n",
    "posts_collection.update_one({\"title\": \"First Post\"}, {\"$set\": {\"content\": \"Updated content of the first post.\"}})\n",
    "updated_post = posts_collection.find_one({\"title\": \"First Post\"})\n",
    "print(f\"Updated post: {updated_post}\")"
   ]
  },
  {
   "cell_type": "code",
   "execution_count": null,
   "id": "fa742928-0442-45d1-848f-dbf50edb4168",
   "metadata": {},
   "outputs": [],
   "source": [
    "\n",
    "# Delete a user\n",
    "users_collection.delete_one({\"username\": \"jane_doe\"})\n",
    "deleted_user = users_collection.find_one({\"username\": \"jane_doe\"})\n",
    "print(f\"Deleted user: {deleted_user}\")\n",
    "\n",
    "# Delete a post\n",
    "posts_collection.delete_one({\"title\": \"Second Post\"})\n",
    "deleted_post = posts_collection.find_one({\"title\": \"Second Post\"})\n",
    "print(f\"Deleted post: {deleted_post}\")"
   ]
  },
  {
   "cell_type": "code",
   "execution_count": null,
   "id": "34128e1b-7f15-4f30-a21f-f678b7febe89",
   "metadata": {},
   "outputs": [],
   "source": []
  }
 ],
 "metadata": {
  "kernelspec": {
   "display_name": "Python 3 (ipykernel)",
   "language": "python",
   "name": "python3"
  },
  "language_info": {
   "codemirror_mode": {
    "name": "ipython",
    "version": 3
   },
   "file_extension": ".py",
   "mimetype": "text/x-python",
   "name": "python",
   "nbconvert_exporter": "python",
   "pygments_lexer": "ipython3",
   "version": "3.11.9"
  }
 },
 "nbformat": 4,
 "nbformat_minor": 5
}
