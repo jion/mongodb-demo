{
 "cells": [
  {
   "cell_type": "markdown",
   "id": "18256077-40ee-4b15-b78e-ea4937a1bd37",
   "metadata": {},
   "source": [
    "# Bulk Ops"
   ]
  },
  {
   "cell_type": "code",
   "execution_count": 1,
   "id": "39d6d758-0c36-4dae-baa8-e50043d72da5",
   "metadata": {},
   "outputs": [
    {
     "data": {
      "text/plain": [
       "Collection(Database(MongoClient(host=['mongodb:27017'], document_class=dict, tz_aware=False, connect=True), 'bulk_ops'), 'subscriptions')"
      ]
     },
     "execution_count": 1,
     "metadata": {},
     "output_type": "execute_result"
    }
   ],
   "source": [
    "from pymongo import MongoClient\n",
    "\n",
    "client = MongoClient('mongodb://mongodb:27017/')\n",
    "db = client.bulk_ops\n",
    "\n",
    "# Ensure collections are clean\n",
    "db.customers.drop()\n",
    "db.subscriptions.drop()\n",
    "\n",
    "# Create collections\n",
    "db.create_collection('customers')\n",
    "db.create_collection('subscriptions')"
   ]
  },
  {
   "cell_type": "code",
   "execution_count": 2,
   "id": "a2476669-9ec8-4755-9e97-ee74895a2d29",
   "metadata": {},
   "outputs": [],
   "source": [
    "import json\n",
    "\n",
    "def load_jsonl(file_path):\n",
    "    with open(file_path, 'r') as file:\n",
    "        for line in file:\n",
    "            yield json.loads(line)"
   ]
  },
  {
   "cell_type": "markdown",
   "id": "2bcc715a-13af-47b8-98d8-19a020d1f46c",
   "metadata": {},
   "source": [
    "## Single Ops"
   ]
  },
  {
   "cell_type": "code",
   "execution_count": 3,
   "id": "d4e5711e-cca3-4152-b3c5-9e4b62d59eeb",
   "metadata": {},
   "outputs": [],
   "source": [
    "from bson import ObjectId, DBRef\n",
    "import time\n",
    "\n",
    "def insert_single_ops(file_path):\n",
    "    start_time = time.time()\n",
    "\n",
    "    for record in load_jsonl(file_path):\n",
    "        customer = record[\"customer\"]\n",
    "        customer_id = customer[\"merchant_user_id\"]\n",
    "        customer_obj_id = ObjectId()\n",
    "        customer_doc = {\n",
    "            \"_id\": customer_obj_id,\n",
    "            \"merchant\": customer[\"merchant\"],\n",
    "            \"data\": customer\n",
    "        }\n",
    "        db.customers.insert_one(customer_doc)\n",
    "\n",
    "        for subscription in record[\"subscriptions\"]:\n",
    "            subscription_obj_id = ObjectId()\n",
    "            subscription_doc = {\n",
    "                \"_id\": subscription_obj_id,\n",
    "                \"customer\": DBRef(\"customers\", customer_obj_id),\n",
    "                \"data\": subscription\n",
    "            }\n",
    "            db.subscriptions.insert_one(subscription_doc)\n",
    "\n",
    "    end_time = time.time()\n",
    "    print(\"Single Operations Write Time:\", end_time - start_time)"
   ]
  },
  {
   "cell_type": "code",
   "execution_count": 4,
   "id": "dfcaa6e1-5ddb-4f0c-94a8-8df1c954caa7",
   "metadata": {},
   "outputs": [
    {
     "name": "stdout",
     "output_type": "stream",
     "text": [
      "Running single operations...\n",
      "Single Operations Write Time: 5.350555419921875\n"
     ]
    }
   ],
   "source": [
    "# File paths for the sample data\n",
    "file_path = '10k.jsonl'\n",
    "\n",
    "# Run single operations\n",
    "print(\"Running single operations...\")\n",
    "insert_single_ops(file_path)"
   ]
  },
  {
   "cell_type": "code",
   "execution_count": 5,
   "id": "92ab5945-f06e-4e74-b510-c5bcc17b876a",
   "metadata": {},
   "outputs": [
    {
     "data": {
      "text/plain": [
       "Collection(Database(MongoClient(host=['mongodb:27017'], document_class=dict, tz_aware=False, connect=True), 'bulk_ops'), 'subscriptions')"
      ]
     },
     "execution_count": 5,
     "metadata": {},
     "output_type": "execute_result"
    }
   ],
   "source": [
    "# Clear collections for fair comparison\n",
    "db.customers.drop()\n",
    "db.subscriptions.drop()\n",
    "db.create_collection('customers')\n",
    "db.create_collection('subscriptions')"
   ]
  },
  {
   "cell_type": "markdown",
   "id": "8c82583f-d834-44f8-aa74-4430a9a5cf60",
   "metadata": {},
   "source": [
    "## Bulk Ops"
   ]
  },
  {
   "cell_type": "code",
   "execution_count": 6,
   "id": "51e58833-1a56-4a49-8248-d71f3c3be068",
   "metadata": {},
   "outputs": [],
   "source": [
    "from pymongo import InsertOne\n",
    "\n",
    "def insert_bulk_ops(file_path):\n",
    "    customer_ops = []\n",
    "    subscription_ops = []\n",
    "\n",
    "    start_time = time.time()\n",
    "\n",
    "    for record in load_jsonl(file_path):\n",
    "        customer = record[\"customer\"]\n",
    "        customer_id = customer[\"merchant_user_id\"]\n",
    "        customer_obj_id = ObjectId()\n",
    "        customer_doc = {\n",
    "            \"_id\": customer_obj_id,  # Small but important detail: generate _id\n",
    "            \"merchant\": customer[\"merchant\"],\n",
    "            \"data\": customer\n",
    "        }\n",
    "        customer_ops.append(InsertOne(customer_doc))\n",
    "\n",
    "        for subscription in record[\"subscriptions\"]:\n",
    "            subscription_obj_id = ObjectId()\n",
    "            subscription_doc = {\n",
    "                \"_id\": subscription_obj_id,\n",
    "                \"customer\": DBRef(\"customers\", customer_obj_id),\n",
    "                \"data\": subscription\n",
    "            }\n",
    "            subscription_ops.append(InsertOne(subscription_doc))\n",
    "\n",
    "    if customer_ops:\n",
    "        db.customers.bulk_write(customer_ops)\n",
    "    if subscription_ops:\n",
    "        db.subscriptions.bulk_write(subscription_ops)\n",
    "\n",
    "    end_time = time.time()\n",
    "    print(\"Bulk Operations Write Time:\", end_time - start_time)"
   ]
  },
  {
   "cell_type": "code",
   "execution_count": 7,
   "id": "da9f6547-a91b-4d4d-bf18-5371df771642",
   "metadata": {},
   "outputs": [
    {
     "name": "stdout",
     "output_type": "stream",
     "text": [
      "Running bulk operations...\n",
      "Bulk Operations Write Time: 0.4874753952026367\n"
     ]
    }
   ],
   "source": [
    "# Run bulk operations\n",
    "print(\"Running bulk operations...\")\n",
    "insert_bulk_ops(file_path)"
   ]
  },
  {
   "cell_type": "code",
   "execution_count": null,
   "id": "37c8f369-0e4d-43a1-94f1-37d940bb4c02",
   "metadata": {},
   "outputs": [],
   "source": []
  }
 ],
 "metadata": {
  "kernelspec": {
   "display_name": "Python 3 (ipykernel)",
   "language": "python",
   "name": "python3"
  },
  "language_info": {
   "codemirror_mode": {
    "name": "ipython",
    "version": 3
   },
   "file_extension": ".py",
   "mimetype": "text/x-python",
   "name": "python",
   "nbconvert_exporter": "python",
   "pygments_lexer": "ipython3",
   "version": "3.11.9"
  }
 },
 "nbformat": 4,
 "nbformat_minor": 5
}
